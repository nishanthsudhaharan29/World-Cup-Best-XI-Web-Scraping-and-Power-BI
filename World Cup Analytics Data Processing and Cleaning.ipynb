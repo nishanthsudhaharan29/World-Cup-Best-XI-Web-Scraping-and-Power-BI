{
 "cells": [
  {
   "cell_type": "code",
   "execution_count": 186,
   "id": "8398693f",
   "metadata": {},
   "outputs": [],
   "source": [
    "import pandas as pd\n",
    "import numpy as np\n",
    "import json"
   ]
  },
  {
   "cell_type": "code",
   "execution_count": 187,
   "id": "9fa658ca",
   "metadata": {},
   "outputs": [],
   "source": [
    "# load the match summary json and convert to df\n",
    "with open(r\"C:\\Users\\nisha\\OneDrive\\Desktop\\World Cup Analytics\\JSON files\\t20_wc_match_results.json\") as f:\n",
    "    data = json.load(f)\n",
    "match = pd.DataFrame(data[0]['matchSummary'])"
   ]
  },
  {
   "cell_type": "code",
   "execution_count": 188,
   "id": "c0cca5d9",
   "metadata": {},
   "outputs": [],
   "source": [
    "# clean match summary df\n",
    "match.rename({'scorecard':'match_id'},axis=1,inplace = True)"
   ]
  },
  {
   "cell_type": "code",
   "execution_count": 189,
   "id": "6860156c",
   "metadata": {},
   "outputs": [],
   "source": [
    "# load the batting summary json and convert to df\n",
    "with open(r\"C:\\Users\\nisha\\OneDrive\\Desktop\\World Cup Analytics\\JSON files\\t20_wc_batting_summary.json\") as f:\n",
    "    data = json.load(f)\n",
    "all=[]  \n",
    "for games in data:\n",
    "    all.extend(games['battingSummary'])\n",
    "batting = pd.DataFrame(all)"
   ]
  },
  {
   "cell_type": "code",
   "execution_count": 190,
   "id": "3be25a83",
   "metadata": {},
   "outputs": [],
   "source": [
    "# clean batting summary\n",
    "batting['out/notout'] = batting['dismissal'].apply(lambda x: 'out' if len(x)>0 else 'not out')\n",
    "batting.drop(columns = ['dismissal'],inplace=True)"
   ]
  },
  {
   "cell_type": "code",
   "execution_count": 191,
   "id": "35cd39b2",
   "metadata": {},
   "outputs": [],
   "source": [
    "# clean batting summary\n",
    "batting['batsmanName'] = batting['batsmanName'].apply(lambda x: x.replace('â€',''))\n",
    "batting['batsmanName'] = batting['batsmanName'].apply(lambda x: x.replace('\\xa0',''))\n",
    "batting['batsmanName'] = batting['batsmanName'].apply(lambda x: x.replace('(c)',''))\n",
    "batting['batsmanName'] = batting['batsmanName'].apply(lambda x: x.replace('(wk)',''))"
   ]
  },
  {
   "cell_type": "code",
   "execution_count": 192,
   "id": "6be6ea0a",
   "metadata": {},
   "outputs": [],
   "source": [
    "# create a dictionary with matchid and teams\n",
    "ids = {}\n",
    "for index, row in match.iterrows():\n",
    "    key1 = row['team1'] + ' Vs ' + row['team2']\n",
    "    key2 = row['team2'] + ' Vs ' + row['team1']\n",
    "    ids[key1] = row['match_id']\n",
    "    ids[key2] = row['match_id']\n",
    "# adding the match id to the batting summary table\n",
    "batting['match_id'] = batting['match'].map(ids)"
   ]
  },
  {
   "cell_type": "code",
   "execution_count": 193,
   "id": "c083f74d",
   "metadata": {},
   "outputs": [],
   "source": [
    "# load the bowling summary json and convert to df\n",
    "with open (r\"C:\\Users\\nisha\\OneDrive\\Desktop\\World Cup Analytics\\JSON files\\t20_wc_bowling_summary.json\") as f:\n",
    "    data = json.load(f)\n",
    "all=[]\n",
    "for row in data:\n",
    "    all.extend(row['bowlingSummary'])\n",
    "bowling = pd.DataFrame(all)\n",
    "    "
   ]
  },
  {
   "cell_type": "code",
   "execution_count": 194,
   "id": "7f48c15d",
   "metadata": {},
   "outputs": [],
   "source": [
    "# cleaning the bowling table\n",
    "bowling['bowlerName'] = bowling['bowlerName'].apply(lambda x: x.replace('â€',''))\n",
    "bowling['bowlerName'] = bowling['bowlerName'].apply(lambda x: x.replace('\\xa0',''))\n",
    "bowling['bowlerName'] = bowling['bowlerName'].apply(lambda x: x.replace('(c)',''))\n",
    "bowling['bowlerName'] = bowling['bowlerName'].apply(lambda x: x.replace('(wk)',''))\n"
   ]
  },
  {
   "cell_type": "code",
   "execution_count": 195,
   "id": "bed47a31",
   "metadata": {},
   "outputs": [],
   "source": [
    "# adding match id to the bowling summary\n",
    "bowling['match_id'] = bowling['match'].map(ids)"
   ]
  },
  {
   "cell_type": "code",
   "execution_count": 196,
   "id": "df7bad83",
   "metadata": {},
   "outputs": [],
   "source": [
    "# loading the player info json and convert to df\n",
    "with open(r\"C:\\Users\\nisha\\OneDrive\\Desktop\\World Cup Analytics\\JSON files\\t20_wc_player_info.json\") as f:\n",
    "    data = json.load(f)\n",
    "player = pd.DataFrame(data)"
   ]
  },
  {
   "cell_type": "code",
   "execution_count": 197,
   "id": "19145db4",
   "metadata": {},
   "outputs": [],
   "source": [
    "# cleaning the player summary\n",
    "player['name'] = player['name'].apply(lambda x: x.replace('â€',''))\n",
    "player['name'] = player['name'].apply(lambda x: x.replace('\\xa0',''))\n",
    "player['name'] = player['name'].apply(lambda x: x.replace('(c)',''))\n",
    "player['name'] = player['name'].apply(lambda x: x.replace('(wk)',''))"
   ]
  },
  {
   "cell_type": "code",
   "execution_count": 198,
   "id": "4848e134",
   "metadata": {},
   "outputs": [],
   "source": [
    "# exporting the csv files\n",
    "match.to_csv(r\"C:\\Users\\nisha\\OneDrive\\Desktop\\World Cup Analytics\\CSV files/match.csv\",index=False)\n",
    "batting.to_csv(r\"C:\\Users\\nisha\\OneDrive\\Desktop\\World Cup Analytics\\CSV files/batting.csv\",index=False)\n",
    "bowling.to_csv(r\"C:\\Users\\nisha\\OneDrive\\Desktop\\World Cup Analytics\\CSV files/bowling.csv\",index=False)\n",
    "player.to_csv(r\"C:\\Users\\nisha\\OneDrive\\Desktop\\World Cup Analytics\\CSV files/player.csv\",index=False)"
   ]
  },
  {
   "cell_type": "code",
   "execution_count": null,
   "id": "ba57ed1e",
   "metadata": {},
   "outputs": [],
   "source": []
  },
  {
   "cell_type": "code",
   "execution_count": null,
   "id": "3efeb020",
   "metadata": {},
   "outputs": [],
   "source": []
  },
  {
   "cell_type": "code",
   "execution_count": null,
   "id": "b03b8634",
   "metadata": {},
   "outputs": [],
   "source": []
  },
  {
   "cell_type": "code",
   "execution_count": null,
   "id": "42db49c9",
   "metadata": {},
   "outputs": [],
   "source": []
  },
  {
   "cell_type": "code",
   "execution_count": null,
   "id": "6b5c24ba",
   "metadata": {},
   "outputs": [],
   "source": []
  },
  {
   "cell_type": "code",
   "execution_count": null,
   "id": "e05a8132",
   "metadata": {},
   "outputs": [],
   "source": []
  }
 ],
 "metadata": {
  "kernelspec": {
   "display_name": "Python 3 (ipykernel)",
   "language": "python",
   "name": "python3"
  },
  "language_info": {
   "codemirror_mode": {
    "name": "ipython",
    "version": 3
   },
   "file_extension": ".py",
   "mimetype": "text/x-python",
   "name": "python",
   "nbconvert_exporter": "python",
   "pygments_lexer": "ipython3",
   "version": "3.11.4"
  }
 },
 "nbformat": 4,
 "nbformat_minor": 5
}
